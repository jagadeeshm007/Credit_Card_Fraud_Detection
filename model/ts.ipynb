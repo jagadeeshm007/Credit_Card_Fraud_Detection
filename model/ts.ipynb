{
 "cells": [
  {
   "cell_type": "code",
   "execution_count": 26,
   "metadata": {},
   "outputs": [],
   "source": [
    "from __future__ import print_function\n",
    "import numpy as np\n",
    "from sklearn.preprocessing import normalize\n",
    "from sklearn.exceptions import NotFittedError\n",
    "import pickle\n",
    "import warnings\n"
   ]
  },
  {
   "cell_type": "code",
   "execution_count": 25,
   "metadata": {},
   "outputs": [],
   "source": [
    "def load_model_and_scaler():\n",
    "\n",
    "    try:\n",
    "        with open(r'pickle_files/model.pkl', 'rb') as f:\n",
    "            model = pickle.load(f)\n",
    "        with open(r'pickle_files/scaler.pkl', 'rb') as f:\n",
    "            scaler = pickle.load(f)\n",
    "        return model, scaler\n",
    "    \n",
    "    except FileNotFoundError:\n",
    "        print(\"File not found. Please check the file path.\")\n",
    "    except pickle.UnpicklingError:\n",
    "        print(\"Error in unpickling the file. The file might be corrupted or not a pickle file.\")\n",
    "    except Exception as e:\n",
    "        print(f\"An error occurred: {e}\")\n",
    "        return None, None\n"
   ]
  },
  {
   "cell_type": "code",
   "execution_count": 27,
   "metadata": {},
   "outputs": [],
   "source": [
    "\n",
    "def preprocess_input(amount, features, scaler):\n",
    "    try:\n",
    "        input_data = np.array([amount] + features).reshape(1, -1)\n",
    "        \n",
    "        # Suppress specific warning\n",
    "        with warnings.catch_warnings():\n",
    "            warnings.simplefilter(action='ignore', category=UserWarning)\n",
    "            input_data = scaler.transform(input_data)\n",
    "        \n",
    "        input_data = normalize(input_data, norm=\"l1\")\n",
    "        return input_data\n",
    "    except NotFittedError as e:\n",
    "        print(f\"Scaler is not fitted: {e}\")\n",
    "        return None"
   ]
  },
  {
   "cell_type": "code",
   "execution_count": 28,
   "metadata": {},
   "outputs": [],
   "source": [
    "def predict_fraud(amount, features):\n",
    "    model, scaler = load_model_and_scaler()\n",
    "    if model is None or scaler is None:\n",
    "        print(\"Failed to load model or scaler.\")\n",
    "        return None\n",
    "    \n",
    "    input_data = preprocess_input(amount, features, scaler)\n",
    "    if input_data is None:\n",
    "        print(\"Failed to preprocess input.\")\n",
    "        return None\n",
    "\n",
    "    prediction = model.predict(input_data)\n",
    "    return prediction\n"
   ]
  },
  {
   "cell_type": "code",
   "execution_count": 29,
   "metadata": {},
   "outputs": [
    {
     "name": "stdout",
     "output_type": "stream",
     "text": [
      "The transaction is not fraudulent.\n"
     ]
    },
    {
     "name": "stderr",
     "output_type": "stream",
     "text": [
      "c:\\Python312\\Lib\\site-packages\\sklearn\\base.py:376: InconsistentVersionWarning: Trying to unpickle estimator LinearSVC from version 1.2.2 when using version 1.4.2. This might lead to breaking code or invalid results. Use at your own risk. For more info please refer to:\n",
      "https://scikit-learn.org/stable/model_persistence.html#security-maintainability-limitations\n",
      "  warnings.warn(\n",
      "c:\\Python312\\Lib\\site-packages\\sklearn\\base.py:376: InconsistentVersionWarning: Trying to unpickle estimator StandardScaler from version 1.2.2 when using version 1.4.2. This might lead to breaking code or invalid results. Use at your own risk. For more info please refer to:\n",
      "https://scikit-learn.org/stable/model_persistence.html#security-maintainability-limitations\n",
      "  warnings.warn(\n"
     ]
    }
   ],
   "source": [
    "if __name__ == \"__main__\":\n",
    "    # Example usage\n",
    "    amount = 123.45\n",
    "    features = [0.1, 0.2, 0.3, 0.4, 0.5, 0.6, 0.7, 0.8, 0.9, 1.0,\n",
    "                0.1, 0.2, 0.3, 0.4, 0.5, 0.6, 0.7, 0.8, 0.9, 1.0,\n",
    "                0.1, 0.2, 0.3, 0.4, 0.5, 0.6, 0.7, 0.8] # 28 features\n",
    "    \n",
    "    prediction = predict_fraud(amount, features)\n",
    "    print(f\"The transaction is {'fraudulent' if prediction == 1 else 'not fraudulent'}.\")\n"
   ]
  },
  {
   "cell_type": "code",
   "execution_count": null,
   "metadata": {},
   "outputs": [],
   "source": []
  }
 ],
 "metadata": {
  "kernelspec": {
   "display_name": "Python 3",
   "language": "python",
   "name": "python3"
  },
  "language_info": {
   "codemirror_mode": {
    "name": "ipython",
    "version": 3
   },
   "file_extension": ".py",
   "mimetype": "text/x-python",
   "name": "python",
   "nbconvert_exporter": "python",
   "pygments_lexer": "ipython3",
   "version": "3.12.2"
  }
 },
 "nbformat": 4,
 "nbformat_minor": 2
}

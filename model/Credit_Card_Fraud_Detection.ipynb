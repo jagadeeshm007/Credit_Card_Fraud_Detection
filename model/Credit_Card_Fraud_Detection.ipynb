{
  "cells": [
    {
      "cell_type": "code",
      "execution_count": null,
      "metadata": {
        "id": "BfUSHhPGN3qE"
      },
      "outputs": [],
      "source": [
        "from __future__ import print_function\n",
        "import numpy as np\n",
        "import pandas as pd\n",
        "import matplotlib.pyplot as plt\n",
        "%matplotlib inline\n",
        "from sklearn.model_selection import train_test_split\n",
        "from sklearn.preprocessing import StandardScaler,normalize\n",
        "from sklearn.utils.class_weight import compute_class_weight\n",
        "from sklearn.metrics import roc_auc_score\n",
        "import time\n",
        "import warnings\n",
        "warnings.filterwarnings('ignore')"
      ]
    },
    {
      "cell_type": "code",
      "execution_count": null,
      "metadata": {
        "id": "9jH_MO5-Qw25"
      },
      "outputs": [],
      "source": [
        "from sklearn.utils import compute_sample_weight"
      ]
    },
    {
      "cell_type": "code",
      "execution_count": null,
      "metadata": {
        "id": "XturoHWRU19m"
      },
      "outputs": [],
      "source": [
        "url= \"https://cf-courses-data.s3.us.cloud-object-storage.appdomain.cloud/IBMDeveloperSkillsNetwork-ML0101EN-SkillsNetwork/labs/Module%203/data/creditcard.csv\"\n",
        "filename = \"creditcard.csv\""
      ]
    },
    {
      "cell_type": "code",
      "execution_count": null,
      "metadata": {
        "colab": {
          "base_uri": "https://localhost:8080/"
        },
        "id": "Xl_xP92PU16b",
        "outputId": "eac71aa6-5ea4-489f-9c09-50a86e6b52c9"
      },
      "outputs": [],
      "source": [
        "import urllib.request\n",
        "urllib.request.urlretrieve(url, filename)"
      ]
    },
    {
      "cell_type": "code",
      "execution_count": null,
      "metadata": {
        "id": "xzyV9WsYO-ol"
      },
      "outputs": [],
      "source": [
        "raw_data = pd.read_csv('creditcard.csv')"
      ]
    },
    {
      "cell_type": "code",
      "execution_count": null,
      "metadata": {
        "colab": {
          "base_uri": "https://localhost:8080/",
          "height": 290
        },
        "id": "iNhmsmmxO-rS",
        "outputId": "787ed8ce-0b85-410b-90e2-289b33cb83cb"
      },
      "outputs": [],
      "source": [
        "\n",
        "print(\"There are \" + str(len(raw_data)) + \" observations in the credit card fraud dataset.\")\n",
        "print(\"There are \" + str(len(raw_data.columns)) + \" variables in the dataset.\")\n",
        "\n",
        "# display the first rows in the dataset\n",
        "raw_data.head()"
      ]
    },
    {
      "cell_type": "code",
      "execution_count": null,
      "metadata": {
        "colab": {
          "base_uri": "https://localhost:8080/",
          "height": 290
        },
        "id": "0Uf6C28-O-uI",
        "outputId": "58ff6262-3088-4171-c9b4-0e70a0a62e3f"
      },
      "outputs": [],
      "source": [
        "n_replicas = 10\n",
        "\n",
        "# inflate the original dataset\n",
        "big_raw_data = pd.DataFrame(np.repeat(raw_data.values, n_replicas, axis=0), columns=raw_data.columns)\n",
        "\n",
        "print(\"There are \" + str(len(big_raw_data)) + \" observations in the inflated credit card fraud dataset.\")\n",
        "print(\"There are \" + str(len(big_raw_data.columns)) + \" variables in the dataset.\")\n",
        "\n",
        "# display first rows in the new dataset\n",
        "big_raw_data.head()"
      ]
    },
    {
      "cell_type": "code",
      "execution_count": null,
      "metadata": {
        "colab": {
          "base_uri": "https://localhost:8080/"
        },
        "id": "df5USjpDO-w_",
        "outputId": "240f70f6-d0e4-47b4-9bcf-26a737bce1ca"
      },
      "outputs": [],
      "source": [
        "# get the set of distinct classes\n",
        "labels = big_raw_data.Class.unique()\n",
        "labels"
      ]
    },
    {
      "cell_type": "code",
      "execution_count": null,
      "metadata": {
        "colab": {
          "base_uri": "https://localhost:8080/"
        },
        "id": "uzxpBOQpPilx",
        "outputId": "b6a40729-fe87-4171-d286-609208590c65"
      },
      "outputs": [],
      "source": [
        "\n",
        "# get the count of each class\n",
        "sizes = big_raw_data.Class.value_counts().values\n",
        "sizes"
      ]
    },
    {
      "cell_type": "code",
      "execution_count": null,
      "metadata": {
        "colab": {
          "base_uri": "https://localhost:8080/",
          "height": 428
        },
        "id": "6c7N0prtPioi",
        "outputId": "ce8629a3-2087-4c62-91a7-ffd5ba3d0a84"
      },
      "outputs": [],
      "source": [
        "# plot the class value counts\n",
        "fig, ax = plt.subplots()\n",
        "ax.pie(sizes, labels=labels, autopct='%1.3f%%')\n",
        "ax.set_title('Target Variable Value Counts')\n",
        "plt.show()"
      ]
    },
    {
      "cell_type": "code",
      "execution_count": null,
      "metadata": {
        "colab": {
          "base_uri": "https://localhost:8080/",
          "height": 497
        },
        "id": "Hj1jCzBNPirj",
        "outputId": "cb7fbbd9-013d-439b-c9f3-fda861a6bf78"
      },
      "outputs": [],
      "source": [
        "# we provide our solution here\n",
        "plt.hist(big_raw_data.Amount.values, 6, histtype='bar', facecolor='g')\n",
        "plt.show()\n",
        "\n",
        "print(\"Minimum amount value is \", np.min(big_raw_data.Amount.values))\n",
        "print(\"Maximum amount value is \", np.max(big_raw_data.Amount.values))\n",
        "print(\"90% of the transactions have an amount less or equal than \", np.percentile(raw_data.Amount.values, 90))"
      ]
    },
    {
      "cell_type": "code",
      "execution_count": null,
      "metadata": {
        "colab": {
          "base_uri": "https://localhost:8080/"
        },
        "id": "bmaPH4-mPiul",
        "outputId": "ac97d43b-ddb8-4f2f-fad3-c44fd1c9e8e6"
      },
      "outputs": [],
      "source": [
        "# data preprocessing such as scaling/normalization is typically useful for linear models to accelerate the training convergence\n",
        "# standardize features by removing the mean and scaling to unit variance\n",
        "\n",
        "big_raw_data.iloc[:, 1:30] = StandardScaler().fit_transform(big_raw_data.iloc[:, 1:30])\n",
        "data_matrix = big_raw_data.values\n",
        "\n",
        "X = data_matrix[:, 1:30]\n",
        "y = data_matrix[:, 30]\n",
        "\n",
        "X = normalize(X, norm=\"l1\")\n",
        "\n",
        "print('X.shape=', X.shape, 'y.shape=', y.shape)"
      ]
    },
    {
      "cell_type": "code",
      "execution_count": null,
      "metadata": {
        "colab": {
          "base_uri": "https://localhost:8080/"
        },
        "id": "Hq500M5uPix7",
        "outputId": "220946d4-fb8e-45f3-b65c-9f6a710e62be"
      },
      "outputs": [],
      "source": [
        "X_train, X_test, y_train, y_test = train_test_split(X, y, test_size=0.3, random_state=42, stratify=y)\n",
        "print('X_train.shape=', X_train.shape, 'Y_train.shape=', y_train.shape)\n",
        "print('X_test.shape=', X_test.shape, 'Y_test.shape=', y_test.shape)"
      ]
    },
    {
      "cell_type": "code",
      "execution_count": null,
      "metadata": {
        "id": "BUTS4hHFO-za"
      },
      "outputs": [],
      "source": [
        "# compute the sample weights to be used as input to the train routine so that\n",
        "# it takes into account the class imbalance present in this dataset\n",
        "w_train = compute_sample_weight('balanced', y_train)"
      ]
    },
    {
      "cell_type": "code",
      "execution_count": null,
      "metadata": {
        "colab": {
          "base_uri": "https://localhost:8080/"
        },
        "id": "411mq-_2O-2B",
        "outputId": "897bba85-9506-49f9-a871-2d801ba52bf3"
      },
      "outputs": [],
      "source": [
        "# import the Decision Tree Classifier Model from scikit-learn\n",
        "from sklearn.tree import DecisionTreeClassifier\n",
        "\n",
        "# for reproducible output across multiple function calls, set random_state to a given integer value\n",
        "sklearn_dt = DecisionTreeClassifier(max_depth=4, random_state=35)\n",
        "\n",
        "# train a Decision Tree Classifier using scikit-learn\n",
        "t0 = time.time()\n",
        "sklearn_dt.fit(X_train, y_train, sample_weight=w_train)\n",
        "sklearn_time = time.time()-t0\n",
        "print(\"[Scikit-Learn] Training time (s):  {0:.5f}\".format(sklearn_time))"
      ]
    },
    {
      "cell_type": "code",
      "execution_count": null,
      "metadata": {
        "colab": {
          "base_uri": "https://localhost:8080/"
        },
        "id": "P0moYPaoRkC6",
        "outputId": "6e786159-c7e9-498b-e109-7d30d2ef2f79"
      },
      "outputs": [],
      "source": [
        "# import the linear Support Vector Machine (SVM) model from Scikit-Learn\n",
        "from sklearn.svm import LinearSVC\n",
        "sklearn_svm = LinearSVC(class_weight='balanced', random_state=31, loss=\"hinge\", fit_intercept=False)\n",
        "\n",
        "t0 = time.time()\n",
        "sklearn_svm.fit(X_train, y_train)\n",
        "sklearn_time = time.time() - t0\n",
        "print(\"[Scikit-Learn] Training time (s):  {0:.2f}\".format(sklearn_time))"
      ]
    },
    {
      "cell_type": "code",
      "execution_count": null,
      "metadata": {
        "colab": {
          "base_uri": "https://localhost:8080/"
        },
        "id": "gQEarrdvRqHK",
        "outputId": "fbb4ab09-b17e-4215-861c-31fe1549724e"
      },
      "outputs": [],
      "source": [
        "# get the confidence scores for the test samples\n",
        "\n",
        "sklearn_pred = sklearn_svm.decision_function(X_test)\n",
        "from sklearn.metrics import hinge_loss\n",
        "loss_sklearn = hinge_loss(y_test, sklearn_pred)\n",
        "print(\"[Scikit-Learn] Hinge loss:   {0:.3f}\".format(loss_sklearn))\n"
      ]
    },
    {
      "cell_type": "code",
      "execution_count": null,
      "metadata": {},
      "outputs": [],
      "source": [
        "import pickle"
      ]
    },
    {
      "cell_type": "code",
      "execution_count": null,
      "metadata": {
        "colab": {
          "base_uri": "https://localhost:8080/"
        },
        "id": "vhRK5zB_RqKn",
        "outputId": "d4e09bea-604c-447d-d967-18875099e736"
      },
      "outputs": [],
      "source": [
        "\n",
        "# Save the scaler and model using pickle\n",
        "with open('scaler.pkl', 'wb') as f:\n",
        "    pickle.dump(StandardScaler(), f)\n",
        "\n",
        "with open('model.pkl', 'wb') as f:\n",
        "    pickle.dump(LinearSVC(), f)\n",
        "\n",
        "print(\"Model and scaler have been saved.\")"
      ]
    }
  ],
  "metadata": {
    "colab": {
      "provenance": []
    },
    "kernelspec": {
      "display_name": "Python 3",
      "name": "python3"
    },
    "language_info": {
      "codemirror_mode": {
        "name": "ipython",
        "version": 3
      },
      "file_extension": ".py",
      "mimetype": "text/x-python",
      "name": "python",
      "nbconvert_exporter": "python",
      "pygments_lexer": "ipython3",
      "version": "3.12.2"
    }
  },
  "nbformat": 4,
  "nbformat_minor": 0
}
